{
 "cells": [
  {
   "cell_type": "markdown",
   "metadata": {},
   "source": [
    "## Library Setup\n",
    "\n",
    "1. Get your OpenAI API key from https://platform.openai.com/api-keys\n",
    "2. There is a `.env` file in the same directory as this notebook. Open it and replace `your-api-key`\n",
    "3. Go to the terminal and install dreamai-gen using pip:\n",
    "   ```bash\n",
    "   pip install dreamai-gen\n",
    "   ```\n"
   ]
  },
  {
   "cell_type": "markdown",
   "metadata": {},
   "source": [
    "## Data Setup\n",
    "\n",
    "This is how the `courses` directory is structured:\n",
    "\n",
    "```\n",
    "courses\n",
    "│\n",
    "└───101\n",
    "│   │   101_prompt.txt\n",
    "│   │\n",
    "│   └───toc\n",
    "|       |  ...\n",
    "└───102\n",
    "    │   102_prompt.txt\n",
    "    │\n",
    "    └───toc\n",
    "        |  ...\n",
    "```\n",
    "\n",
    "101 for Calculus, 102 for Algebra.\n",
    "\n",
    "Now let's say you have a calculus book called \"Calculus 1\"\n",
    "\n",
    "- Copy the book's `Table of Contents` and paste it into a file called `calculus_1.txt`.\n",
    "- This would be the updated directory:\n",
    "\n",
    "```\n",
    "courses\n",
    "│\n",
    "└───101\n",
    "│   │  101_prompt.txt\n",
    "│   │\n",
    "│   └───toc\n",
    "|       |  calculus_1.txt\n",
    "|       |  ...\n",
    "└───102\n",
    "    │  102_prompt.txt\n",
    "    │\n",
    "    └───toc\n",
    "        |  ...\n",
    "\n",
    "```\n",
    "\n",
    "- After running the code below, you'll get an excel file with comparisons. This file will have the comparisons of every file in the `toc` directory with the course's outline.\n",
    "- This would be the updated directory:\n",
    "\n",
    "```\n",
    "courses\n",
    "│\n",
    "└───101\n",
    "│   │  101_prompt.txt\n",
    "│   │  101_comparisons.xlsx\n",
    "│   └───toc\n",
    "|       |  calculus_1.txt\n",
    "|       |  ...\n",
    "└───102\n",
    "    │  102_prompt.txt\n",
    "    │\n",
    "    └───toc\n",
    "        |  ...\n",
    "```\n",
    "\n",
    "If a `comparisons` file already exists, the books already compared will be skipped and the file will be updated with new comparisons.\n"
   ]
  },
  {
   "cell_type": "code",
   "execution_count": null,
   "metadata": {},
   "outputs": [],
   "source": [
    "from dotenv import load_dotenv\n",
    "\n",
    "from compare import gen_comparisons_excel\n",
    "\n",
    "load_dotenv()\n",
    "\n",
    "\n",
    "%load_ext autoreload\n",
    "%autoreload 2\n",
    "%reload_ext autoreload"
   ]
  },
  {
   "cell_type": "code",
   "execution_count": null,
   "metadata": {},
   "outputs": [],
   "source": [
    "courses_folder = \"courses\"\n",
    "course_name = \"101\""
   ]
  },
  {
   "cell_type": "code",
   "execution_count": null,
   "metadata": {},
   "outputs": [],
   "source": [
    "df = gen_comparisons_excel(course_name=course_name, courses_folder=courses_folder)"
   ]
  },
  {
   "cell_type": "code",
   "execution_count": null,
   "metadata": {},
   "outputs": [],
   "source": [
    "# This file's path is: \"courses/101/101_comparisons.xlsx\"\n",
    "\n",
    "df"
   ]
  }
 ],
 "metadata": {
  "kernelspec": {
   "display_name": ".venv",
   "language": "python",
   "name": "python3"
  },
  "language_info": {
   "codemirror_mode": {
    "name": "ipython",
    "version": 3
   },
   "file_extension": ".py",
   "mimetype": "text/x-python",
   "name": "python",
   "nbconvert_exporter": "python",
   "pygments_lexer": "ipython3",
   "version": "3.11.5"
  }
 },
 "nbformat": 4,
 "nbformat_minor": 2
}
