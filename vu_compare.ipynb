{
 "cells": [
  {
   "cell_type": "markdown",
   "metadata": {},
   "source": [
    "## Library Setup\n",
    "\n",
    "1. Get your OpenAI API key from https://platform.openai.com/api-keys\n",
    "2. There is a `.env` file in the same directory as this notebook. Open it and replace `your-api-key`\n",
    "3. Go to the terminal and install dreamai-gen using pip:\n",
    "   ```bash\n",
    "   pip install dreamai-gen\n",
    "   ```\n"
   ]
  },
  {
   "cell_type": "markdown",
   "metadata": {},
   "source": [
    "## Data Setup\n",
    "\n",
    "This is how the `courses` directory is structured:\n",
    "\n",
    "```\n",
    "courses\n",
    "│\n",
    "└───101\n",
    "│   │   101_prompt.txt\n",
    "│   │\n",
    "│   └───toc\n",
    "|       |  ...\n",
    "└───102\n",
    "    │   102_prompt.txt\n",
    "    │\n",
    "    └───toc\n",
    "        |  ...\n",
    "```\n",
    "\n",
    "101 for Calculus, 102 for Algebra.\n",
    "\n",
    "Now let's say you have a calculus book called \"Calculus 1\"\n",
    "\n",
    "- Copy the book's `Table of Contents` and paste it into a file called `calculus_1.txt`.\n",
    "- This would be the updated directory:\n",
    "\n",
    "```\n",
    "courses\n",
    "│\n",
    "└───101\n",
    "│   │  101_prompt.txt\n",
    "│   │\n",
    "│   └───toc\n",
    "|       |  calculus_1.txt\n",
    "|       |  ...\n",
    "└───102\n",
    "    │  102_prompt.txt\n",
    "    │\n",
    "    └───toc\n",
    "        |  ...\n",
    "\n",
    "```\n",
    "\n",
    "- After running the code below, you'll get an excel file with comparisons. This file will have the comparisons of every file in the `toc` directory with the course's outline.\n",
    "- This would be the updated directory:\n",
    "\n",
    "```\n",
    "courses\n",
    "│\n",
    "└───101\n",
    "│   │  101_prompt.txt\n",
    "│   │  101_comparisons.xlsx\n",
    "│   └───toc\n",
    "|       |  calculus_1.txt\n",
    "|       |  ...\n",
    "└───102\n",
    "    │  102_prompt.txt\n",
    "    │\n",
    "    └───toc\n",
    "        |  ...\n",
    "```\n",
    "\n",
    "If a `comparisons` file already exists, the books already compared will be skipped and the file will be updated with new comparisons.\n"
   ]
  },
  {
   "cell_type": "code",
   "execution_count": 1,
   "metadata": {},
   "outputs": [
    {
     "name": "stdout",
     "output_type": "stream",
     "text": [
      "The autoreload extension is already loaded. To reload it, use:\n",
      "  %reload_ext autoreload\n"
     ]
    }
   ],
   "source": [
    "from compare import gen_comparisons_excel\n",
    "from dotenv import load_dotenv\n",
    "\n",
    "load_dotenv()\n",
    "\n",
    "\n",
    "%load_ext autoreload\n",
    "%autoreload 2\n",
    "%reload_ext autoreload"
   ]
  },
  {
   "cell_type": "code",
   "execution_count": 2,
   "metadata": {},
   "outputs": [],
   "source": [
    "courses_folder = \"courses\"\n",
    "course_name = \"101\"\n",
    "excel_file = f\"{courses_folder}/{course_name}/{course_name}_comparisons.xlsx\""
   ]
  },
  {
   "cell_type": "code",
   "execution_count": 3,
   "metadata": {},
   "outputs": [
    {
     "data": {
      "text/html": [
       "<div>\n",
       "<style scoped>\n",
       "    .dataframe tbody tr th:only-of-type {\n",
       "        vertical-align: middle;\n",
       "    }\n",
       "\n",
       "    .dataframe tbody tr th {\n",
       "        vertical-align: top;\n",
       "    }\n",
       "\n",
       "    .dataframe thead th {\n",
       "        text-align: right;\n",
       "    }\n",
       "</style>\n",
       "<table border=\"1\" class=\"dataframe\">\n",
       "  <thead>\n",
       "    <tr style=\"text-align: right;\">\n",
       "      <th></th>\n",
       "      <th>Topics From The Course Outline Covered In The Book</th>\n",
       "      <th>Topics From The Course Outline Not Covered In The Book</th>\n",
       "      <th>Book</th>\n",
       "    </tr>\n",
       "  </thead>\n",
       "  <tbody>\n",
       "    <tr>\n",
       "      <th>0</th>\n",
       "      <td>Functions and Graphs (Chapter 1)</td>\n",
       "      <td>Introduction to Coordinates, Graphs and Lines</td>\n",
       "      <td>calc1</td>\n",
       "    </tr>\n",
       "    <tr>\n",
       "      <th>1</th>\n",
       "      <td>Limits (Chapter 2)</td>\n",
       "      <td>Basic concepts of Distance, circles and Quadra...</td>\n",
       "      <td>calc1</td>\n",
       "    </tr>\n",
       "    <tr>\n",
       "      <th>2</th>\n",
       "      <td>Derivatives (Chapter 3)</td>\n",
       "      <td>Function, its operations and Graphs</td>\n",
       "      <td>calc1</td>\n",
       "    </tr>\n",
       "    <tr>\n",
       "      <th>3</th>\n",
       "      <td>Applications of Derivatives (Chapter 4)</td>\n",
       "      <td>Introduction to limit and its computational te...</td>\n",
       "      <td>calc1</td>\n",
       "    </tr>\n",
       "    <tr>\n",
       "      <th>4</th>\n",
       "      <td>Newton’s Method (Chapter 4)</td>\n",
       "      <td>Continuity and its application for different f...</td>\n",
       "      <td>calc1</td>\n",
       "    </tr>\n",
       "  </tbody>\n",
       "</table>\n",
       "</div>"
      ],
      "text/plain": [
       "  Topics From The Course Outline Covered In The Book  \\\n",
       "0                   Functions and Graphs (Chapter 1)   \n",
       "1                                 Limits (Chapter 2)   \n",
       "2                            Derivatives (Chapter 3)   \n",
       "3            Applications of Derivatives (Chapter 4)   \n",
       "4                        Newton’s Method (Chapter 4)   \n",
       "\n",
       "  Topics From The Course Outline Not Covered In The Book   Book  \n",
       "0      Introduction to Coordinates, Graphs and Lines      calc1  \n",
       "1  Basic concepts of Distance, circles and Quadra...      calc1  \n",
       "2                Function, its operations and Graphs      calc1  \n",
       "3  Introduction to limit and its computational te...      calc1  \n",
       "4  Continuity and its application for different f...      calc1  "
      ]
     },
     "execution_count": 3,
     "metadata": {},
     "output_type": "execute_result"
    }
   ],
   "source": [
    "df = gen_comparisons_excel(course_name=course_name, courses_folder=courses_folder)\n",
    "df.head(5)  # Show the first 5 rows. This file's path is: {excel_file}"
   ]
  }
 ],
 "metadata": {
  "kernelspec": {
   "display_name": ".venv",
   "language": "python",
   "name": "python3"
  },
  "language_info": {
   "codemirror_mode": {
    "name": "ipython",
    "version": 3
   },
   "file_extension": ".py",
   "mimetype": "text/x-python",
   "name": "python",
   "nbconvert_exporter": "python",
   "pygments_lexer": "ipython3",
   "version": "3.11.5"
  }
 },
 "nbformat": 4,
 "nbformat_minor": 2
}
